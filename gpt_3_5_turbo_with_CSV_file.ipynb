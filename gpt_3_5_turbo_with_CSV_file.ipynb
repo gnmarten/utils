{
  "nbformat": 4,
  "nbformat_minor": 0,
  "metadata": {
    "colab": {
      "provenance": []
    },
    "kernelspec": {
      "name": "python3",
      "display_name": "Python 3"
    },
    "language_info": {
      "name": "python"
    },
    "accelerator": "GPU",
    "gpuClass": "standard"
  },
  "cells": [
    {
      "cell_type": "code",
      "source": [
        "!pip install openai"
      ],
      "metadata": {
        "colab": {
          "base_uri": "https://localhost:8080/"
        },
        "id": "t3wwZV78C41a",
        "outputId": "f61cfec8-6fe8-4c05-9767-0881567737c1"
      },
      "execution_count": null,
      "outputs": [
        {
          "output_type": "stream",
          "name": "stdout",
          "text": [
            "Looking in indexes: https://pypi.org/simple, https://us-python.pkg.dev/colab-wheels/public/simple/\n",
            "Collecting openai\n",
            "  Downloading openai-0.27.2-py3-none-any.whl (70 kB)\n",
            "\u001b[2K     \u001b[90m━━━━━━━━━━━━━━━━━━━━━━━━━━━━━━━━━━━━━━━━\u001b[0m \u001b[32m70.1/70.1 KB\u001b[0m \u001b[31m3.6 MB/s\u001b[0m eta \u001b[36m0:00:00\u001b[0m\n",
            "\u001b[?25hRequirement already satisfied: requests>=2.20 in /usr/local/lib/python3.9/dist-packages (from openai) (2.27.1)\n",
            "Collecting aiohttp\n",
            "  Downloading aiohttp-3.8.4-cp39-cp39-manylinux_2_17_x86_64.manylinux2014_x86_64.whl (1.0 MB)\n",
            "\u001b[2K     \u001b[90m━━━━━━━━━━━━━━━━━━━━━━━━━━━━━━━━━━━━━━━━\u001b[0m \u001b[32m1.0/1.0 MB\u001b[0m \u001b[31m27.0 MB/s\u001b[0m eta \u001b[36m0:00:00\u001b[0m\n",
            "\u001b[?25hRequirement already satisfied: tqdm in /usr/local/lib/python3.9/dist-packages (from openai) (4.65.0)\n",
            "Requirement already satisfied: charset-normalizer~=2.0.0 in /usr/local/lib/python3.9/dist-packages (from requests>=2.20->openai) (2.0.12)\n",
            "Requirement already satisfied: certifi>=2017.4.17 in /usr/local/lib/python3.9/dist-packages (from requests>=2.20->openai) (2022.12.7)\n",
            "Requirement already satisfied: idna<4,>=2.5 in /usr/local/lib/python3.9/dist-packages (from requests>=2.20->openai) (3.4)\n",
            "Requirement already satisfied: urllib3<1.27,>=1.21.1 in /usr/local/lib/python3.9/dist-packages (from requests>=2.20->openai) (1.26.15)\n",
            "Collecting multidict<7.0,>=4.5\n",
            "  Downloading multidict-6.0.4-cp39-cp39-manylinux_2_17_x86_64.manylinux2014_x86_64.whl (114 kB)\n",
            "\u001b[2K     \u001b[90m━━━━━━━━━━━━━━━━━━━━━━━━━━━━━━━━━━━━━━\u001b[0m \u001b[32m114.2/114.2 KB\u001b[0m \u001b[31m12.0 MB/s\u001b[0m eta \u001b[36m0:00:00\u001b[0m\n",
            "\u001b[?25hCollecting frozenlist>=1.1.1\n",
            "  Downloading frozenlist-1.3.3-cp39-cp39-manylinux_2_5_x86_64.manylinux1_x86_64.manylinux_2_17_x86_64.manylinux2014_x86_64.whl (158 kB)\n",
            "\u001b[2K     \u001b[90m━━━━━━━━━━━━━━━━━━━━━━━━━━━━━━━━━━━━━━\u001b[0m \u001b[32m158.8/158.8 KB\u001b[0m \u001b[31m20.4 MB/s\u001b[0m eta \u001b[36m0:00:00\u001b[0m\n",
            "\u001b[?25hCollecting async-timeout<5.0,>=4.0.0a3\n",
            "  Downloading async_timeout-4.0.2-py3-none-any.whl (5.8 kB)\n",
            "Collecting aiosignal>=1.1.2\n",
            "  Downloading aiosignal-1.3.1-py3-none-any.whl (7.6 kB)\n",
            "Requirement already satisfied: attrs>=17.3.0 in /usr/local/lib/python3.9/dist-packages (from aiohttp->openai) (22.2.0)\n",
            "Collecting yarl<2.0,>=1.0\n",
            "  Downloading yarl-1.8.2-cp39-cp39-manylinux_2_17_x86_64.manylinux2014_x86_64.whl (264 kB)\n",
            "\u001b[2K     \u001b[90m━━━━━━━━━━━━━━━━━━━━━━━━━━━━━━━━━━━━━━\u001b[0m \u001b[32m264.6/264.6 KB\u001b[0m \u001b[31m22.7 MB/s\u001b[0m eta \u001b[36m0:00:00\u001b[0m\n",
            "\u001b[?25hInstalling collected packages: multidict, frozenlist, async-timeout, yarl, aiosignal, aiohttp, openai\n",
            "Successfully installed aiohttp-3.8.4 aiosignal-1.3.1 async-timeout-4.0.2 frozenlist-1.3.3 multidict-6.0.4 openai-0.27.2 yarl-1.8.2\n"
          ]
        }
      ]
    },
    {
      "cell_type": "code",
      "source": [
        "#working python conversion of go code\n",
        "import openai\n",
        "import os\n",
        "import csv\n",
        "import string\n",
        "\n",
        "# Load OpenAI API key from environment variable\n",
        "#openai.api_key = os.environ[\"OPENAI_API_KEY\"]\n",
        "openai.api_key = '12345678'\n",
        "# Constants\n",
        "preamble_for_data = \"\"\"\n",
        "You are given a set of csv data, keep this in mind and answer the subsequent questions from the user.\n",
        "The data is as follows: \n",
        "\"\"\"\n",
        "prompt1 = \"You are a data analyst that analyzes complex data sets and provides comprehensive reports.\"\n",
        "\n",
        "def main():\n",
        "    # Open and read from CSV file\n",
        "    with open(\"/content/dummy-sheet.csv\") as fd:\n",
        "        csv_reader = csv.reader(fd)\n",
        "        records = list(csv_reader)\n",
        "\n",
        "    # Create a string from the CSV data\n",
        "    csv_data = \"\"\n",
        "    for index, row in enumerate(records):\n",
        "        if index == 0:\n",
        "            continue\n",
        "        csv_data += \",\".join(row) + \"\\n\\n\"\n",
        "\n",
        "#    for index, row in enumerate(records):\n",
        "#        if index == 0:\n",
        "#            continue\n",
        "#        csv_data += string.join(row, \",\") + \"\\n\\n\"\n",
        "\n",
        "    # Create the prompt\n",
        "    prompt2 = preamble_for_data + csv_data\n",
        "\n",
        "    # Generate chat response with OpenAI API\n",
        "    prompt = prompt1 + \"\\n\\n\" + prompt2\n",
        "    completion = openai.ChatCompletion.create(\n",
        "        model=\"gpt-3.5-turbo\",\n",
        "        messages=[\n",
        "            {\"role\": \"system\",    \"content\": prompt1},\n",
        "            {\"role\": \"system\",    \"content\": prompt2},\n",
        "            {\"role\": \"user\",      \"content\": \"What is the following data set about?\"},\n",
        "            {\"role\": \"user\",      \"content\": \"What is most popular major or group of majors?\"},\n",
        "            {\"role\": \"user\",      \"content\": \"Where are most of the students from?\"},\n",
        "            {\"role\": \"user\",      \"content\": \"Which extra-curricular activity/activities is most popular? Which among them has the highest female participation?\"},\n",
        "            # add in as many questions as you want\n",
        "        ],\n",
        "        temperature=0.5,\n",
        "        #max_tokens=1024, #for ChatGPT api, omitting max_tokens is equivalent to having no limit\n",
        "        n = 1,\n",
        "        stop=None,\n",
        "        timeout=10,\n",
        "        presence_penalty=0,\n",
        "        frequency_penalty=0\n",
        "    )\n",
        "\n",
        "    # Print response\n",
        "    #print(completion.choices[0])\n",
        "    #print(completion.choices[0].text)\n",
        "    #print(completion.choices[0].\"message\".\"content\")\n",
        "    print(completion.choices[0].message.content)\n",
        "\n",
        "\n",
        "if __name__ == \"__main__\":\n",
        "    main()\n"
      ],
      "metadata": {
        "colab": {
          "base_uri": "https://localhost:8080/"
        },
        "id": "VxP9MURULE_G",
        "outputId": "6081d7a8-3408-4546-8f22-7488ed14c3a0"
      },
      "execution_count": null,
      "outputs": [
        {
          "output_type": "stream",
          "name": "stdout",
          "text": [
            "The dataset consists of information about students, including their names, gender, year of study, state, major, and extracurricular activity.\n",
            "As for the most popular major or group of majors, we can see that there are 7 students studying English, 6 studying Math, 5 studying Physics, and 4 studying Art. So we can say that English and Math are the most popular majors.\n",
            "Most of the students are from California (3 students), followed by New York, North Carolina, and Massachusetts (2 students each).\n",
            "The most popular extracurricular activity is Drama Club, with 4 students participating in it. Among them, 3 are male and 1 is female. Basketball and Lacrosse are the second most popular activities, with 4 students each. Among them, 3 females participate in basketball, and 2 males participate in lacrosse.\n"
          ]
        }
      ]
    }
  ]
}