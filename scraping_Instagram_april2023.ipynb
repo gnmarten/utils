{
 "cells": [
  {
   "cell_type": "markdown",
   "metadata": {},
   "source": [
    "# Web Scraping Instagram with Selenium\n",
    "\n",
    "I recommend to select option 2 as it's the easiest one"
   ]
  },
  {
   "cell_type": "code",
   "execution_count": 4,
   "metadata": {},
   "outputs": [],
   "source": [
    "#imports here\n",
    "from selenium import webdriver\n",
    "from selenium.webdriver.common.keys import Keys\n",
    "from selenium.webdriver.support import expected_conditions as EC\n",
    "from selenium.webdriver.common.by import By\n",
    "from selenium.webdriver.support.wait import WebDriverWait\n",
    "from webdriver_manager.chrome import ChromeDriverManager"
   ]
  },
  {
   "cell_type": "markdown",
   "metadata": {},
   "source": [
    "## OPTION 1: Download ChromeDriver\n",
    "Now we need to download latest stable release of ChromeDriver from:\n",
    "<br>\n",
    "https://chromedriver.chromium.org/"
   ]
  },
  {
   "cell_type": "code",
   "execution_count": 13,
   "metadata": {},
   "outputs": [
    {
     "ename": "SessionNotCreatedException",
     "evalue": "Message: session not created: This version of ChromeDriver only supports Chrome version 103\nCurrent browser version is 110.0.5481.104 with binary path C:\\Program Files\\Google\\Chrome\\Application\\chrome.exe\n",
     "output_type": "error",
     "traceback": [
      "\u001b[1;31m---------------------------------------------------------------------------\u001b[0m",
      "\u001b[1;31mSessionNotCreatedException\u001b[0m                Traceback (most recent call last)",
      "\u001b[1;32m<ipython-input-13-c50c091b950f>\u001b[0m in \u001b[0;36m<module>\u001b[1;34m\u001b[0m\n\u001b[0;32m      8\u001b[0m \u001b[0mchromedriver\u001b[0m \u001b[1;33m=\u001b[0m \u001b[1;34m\"C:\\\\Users\\\\gnmarten\\\\Downloads\\\\chromedriver_win321\\\\chromedriver.exe\"\u001b[0m\u001b[1;33m\u001b[0m\u001b[0m\n\u001b[0;32m      9\u001b[0m \u001b[0mos\u001b[0m\u001b[1;33m.\u001b[0m\u001b[0menviron\u001b[0m\u001b[1;33m[\u001b[0m\u001b[1;34m\"webdriver.chrome.driver\"\u001b[0m\u001b[1;33m]\u001b[0m \u001b[1;33m=\u001b[0m \u001b[0mchromedriver\u001b[0m\u001b[1;33m\u001b[0m\u001b[0m\n\u001b[1;32m---> 10\u001b[1;33m \u001b[0mdriver\u001b[0m \u001b[1;33m=\u001b[0m \u001b[0mwebdriver\u001b[0m\u001b[1;33m.\u001b[0m\u001b[0mChrome\u001b[0m\u001b[1;33m(\u001b[0m\u001b[0mchromedriver\u001b[0m\u001b[1;33m)\u001b[0m\u001b[1;33m\u001b[0m\u001b[0m\n\u001b[0m\u001b[0;32m     11\u001b[0m \u001b[0mdriver\u001b[0m\u001b[1;33m.\u001b[0m\u001b[0mget\u001b[0m\u001b[1;33m(\u001b[0m\u001b[1;34m\"http://stackoverflow.com\"\u001b[0m\u001b[1;33m)\u001b[0m\u001b[1;33m\u001b[0m\u001b[0m\n\u001b[0;32m     12\u001b[0m \u001b[0mdriver\u001b[0m\u001b[1;33m.\u001b[0m\u001b[0mquit\u001b[0m\u001b[1;33m(\u001b[0m\u001b[1;33m)\u001b[0m\u001b[1;33m\u001b[0m\u001b[0m\n",
      "\u001b[1;32m~\\AppData\\Local\\Continuum\\anaconda3\\envs\\python36\\lib\\site-packages\\selenium\\webdriver\\chrome\\webdriver.py\u001b[0m in \u001b[0;36m__init__\u001b[1;34m(self, executable_path, port, options, service_args, desired_capabilities, service_log_path, chrome_options, keep_alive)\u001b[0m\n\u001b[0;32m     79\u001b[0m                     \u001b[0mremote_server_addr\u001b[0m\u001b[1;33m=\u001b[0m\u001b[0mself\u001b[0m\u001b[1;33m.\u001b[0m\u001b[0mservice\u001b[0m\u001b[1;33m.\u001b[0m\u001b[0mservice_url\u001b[0m\u001b[1;33m,\u001b[0m\u001b[1;33m\u001b[0m\u001b[0m\n\u001b[0;32m     80\u001b[0m                     keep_alive=keep_alive),\n\u001b[1;32m---> 81\u001b[1;33m                 desired_capabilities=desired_capabilities)\n\u001b[0m\u001b[0;32m     82\u001b[0m         \u001b[1;32mexcept\u001b[0m \u001b[0mException\u001b[0m\u001b[1;33m:\u001b[0m\u001b[1;33m\u001b[0m\u001b[0m\n\u001b[0;32m     83\u001b[0m             \u001b[0mself\u001b[0m\u001b[1;33m.\u001b[0m\u001b[0mquit\u001b[0m\u001b[1;33m(\u001b[0m\u001b[1;33m)\u001b[0m\u001b[1;33m\u001b[0m\u001b[0m\n",
      "\u001b[1;32m~\\AppData\\Local\\Continuum\\anaconda3\\envs\\python36\\lib\\site-packages\\selenium\\webdriver\\remote\\webdriver.py\u001b[0m in \u001b[0;36m__init__\u001b[1;34m(self, command_executor, desired_capabilities, browser_profile, proxy, keep_alive, file_detector, options)\u001b[0m\n\u001b[0;32m    155\u001b[0m             warnings.warn(\"Please use FirefoxOptions to set browser profile\",\n\u001b[0;32m    156\u001b[0m                           DeprecationWarning, stacklevel=2)\n\u001b[1;32m--> 157\u001b[1;33m         \u001b[0mself\u001b[0m\u001b[1;33m.\u001b[0m\u001b[0mstart_session\u001b[0m\u001b[1;33m(\u001b[0m\u001b[0mcapabilities\u001b[0m\u001b[1;33m,\u001b[0m \u001b[0mbrowser_profile\u001b[0m\u001b[1;33m)\u001b[0m\u001b[1;33m\u001b[0m\u001b[0m\n\u001b[0m\u001b[0;32m    158\u001b[0m         \u001b[0mself\u001b[0m\u001b[1;33m.\u001b[0m\u001b[0m_switch_to\u001b[0m \u001b[1;33m=\u001b[0m \u001b[0mSwitchTo\u001b[0m\u001b[1;33m(\u001b[0m\u001b[0mself\u001b[0m\u001b[1;33m)\u001b[0m\u001b[1;33m\u001b[0m\u001b[0m\n\u001b[0;32m    159\u001b[0m         \u001b[0mself\u001b[0m\u001b[1;33m.\u001b[0m\u001b[0m_mobile\u001b[0m \u001b[1;33m=\u001b[0m \u001b[0mMobile\u001b[0m\u001b[1;33m(\u001b[0m\u001b[0mself\u001b[0m\u001b[1;33m)\u001b[0m\u001b[1;33m\u001b[0m\u001b[0m\n",
      "\u001b[1;32m~\\AppData\\Local\\Continuum\\anaconda3\\envs\\python36\\lib\\site-packages\\selenium\\webdriver\\remote\\webdriver.py\u001b[0m in \u001b[0;36mstart_session\u001b[1;34m(self, capabilities, browser_profile)\u001b[0m\n\u001b[0;32m    250\u001b[0m         parameters = {\"capabilities\": w3c_caps,\n\u001b[0;32m    251\u001b[0m                       \"desiredCapabilities\": capabilities}\n\u001b[1;32m--> 252\u001b[1;33m         \u001b[0mresponse\u001b[0m \u001b[1;33m=\u001b[0m \u001b[0mself\u001b[0m\u001b[1;33m.\u001b[0m\u001b[0mexecute\u001b[0m\u001b[1;33m(\u001b[0m\u001b[0mCommand\u001b[0m\u001b[1;33m.\u001b[0m\u001b[0mNEW_SESSION\u001b[0m\u001b[1;33m,\u001b[0m \u001b[0mparameters\u001b[0m\u001b[1;33m)\u001b[0m\u001b[1;33m\u001b[0m\u001b[0m\n\u001b[0m\u001b[0;32m    253\u001b[0m         \u001b[1;32mif\u001b[0m \u001b[1;34m'sessionId'\u001b[0m \u001b[1;32mnot\u001b[0m \u001b[1;32min\u001b[0m \u001b[0mresponse\u001b[0m\u001b[1;33m:\u001b[0m\u001b[1;33m\u001b[0m\u001b[0m\n\u001b[0;32m    254\u001b[0m             \u001b[0mresponse\u001b[0m \u001b[1;33m=\u001b[0m \u001b[0mresponse\u001b[0m\u001b[1;33m[\u001b[0m\u001b[1;34m'value'\u001b[0m\u001b[1;33m]\u001b[0m\u001b[1;33m\u001b[0m\u001b[0m\n",
      "\u001b[1;32m~\\AppData\\Local\\Continuum\\anaconda3\\envs\\python36\\lib\\site-packages\\selenium\\webdriver\\remote\\webdriver.py\u001b[0m in \u001b[0;36mexecute\u001b[1;34m(self, driver_command, params)\u001b[0m\n\u001b[0;32m    319\u001b[0m         \u001b[0mresponse\u001b[0m \u001b[1;33m=\u001b[0m \u001b[0mself\u001b[0m\u001b[1;33m.\u001b[0m\u001b[0mcommand_executor\u001b[0m\u001b[1;33m.\u001b[0m\u001b[0mexecute\u001b[0m\u001b[1;33m(\u001b[0m\u001b[0mdriver_command\u001b[0m\u001b[1;33m,\u001b[0m \u001b[0mparams\u001b[0m\u001b[1;33m)\u001b[0m\u001b[1;33m\u001b[0m\u001b[0m\n\u001b[0;32m    320\u001b[0m         \u001b[1;32mif\u001b[0m \u001b[0mresponse\u001b[0m\u001b[1;33m:\u001b[0m\u001b[1;33m\u001b[0m\u001b[0m\n\u001b[1;32m--> 321\u001b[1;33m             \u001b[0mself\u001b[0m\u001b[1;33m.\u001b[0m\u001b[0merror_handler\u001b[0m\u001b[1;33m.\u001b[0m\u001b[0mcheck_response\u001b[0m\u001b[1;33m(\u001b[0m\u001b[0mresponse\u001b[0m\u001b[1;33m)\u001b[0m\u001b[1;33m\u001b[0m\u001b[0m\n\u001b[0m\u001b[0;32m    322\u001b[0m             response['value'] = self._unwrap_value(\n\u001b[0;32m    323\u001b[0m                 response.get('value', None))\n",
      "\u001b[1;32m~\\AppData\\Local\\Continuum\\anaconda3\\envs\\python36\\lib\\site-packages\\selenium\\webdriver\\remote\\errorhandler.py\u001b[0m in \u001b[0;36mcheck_response\u001b[1;34m(self, response)\u001b[0m\n\u001b[0;32m    240\u001b[0m                 \u001b[0malert_text\u001b[0m \u001b[1;33m=\u001b[0m \u001b[0mvalue\u001b[0m\u001b[1;33m[\u001b[0m\u001b[1;34m'alert'\u001b[0m\u001b[1;33m]\u001b[0m\u001b[1;33m.\u001b[0m\u001b[0mget\u001b[0m\u001b[1;33m(\u001b[0m\u001b[1;34m'text'\u001b[0m\u001b[1;33m)\u001b[0m\u001b[1;33m\u001b[0m\u001b[0m\n\u001b[0;32m    241\u001b[0m             \u001b[1;32mraise\u001b[0m \u001b[0mexception_class\u001b[0m\u001b[1;33m(\u001b[0m\u001b[0mmessage\u001b[0m\u001b[1;33m,\u001b[0m \u001b[0mscreen\u001b[0m\u001b[1;33m,\u001b[0m \u001b[0mstacktrace\u001b[0m\u001b[1;33m,\u001b[0m \u001b[0malert_text\u001b[0m\u001b[1;33m)\u001b[0m\u001b[1;33m\u001b[0m\u001b[0m\n\u001b[1;32m--> 242\u001b[1;33m         \u001b[1;32mraise\u001b[0m \u001b[0mexception_class\u001b[0m\u001b[1;33m(\u001b[0m\u001b[0mmessage\u001b[0m\u001b[1;33m,\u001b[0m \u001b[0mscreen\u001b[0m\u001b[1;33m,\u001b[0m \u001b[0mstacktrace\u001b[0m\u001b[1;33m)\u001b[0m\u001b[1;33m\u001b[0m\u001b[0m\n\u001b[0m\u001b[0;32m    243\u001b[0m \u001b[1;33m\u001b[0m\u001b[0m\n\u001b[0;32m    244\u001b[0m     \u001b[1;32mdef\u001b[0m \u001b[0m_value_or_default\u001b[0m\u001b[1;33m(\u001b[0m\u001b[0mself\u001b[0m\u001b[1;33m,\u001b[0m \u001b[0mobj\u001b[0m\u001b[1;33m,\u001b[0m \u001b[0mkey\u001b[0m\u001b[1;33m,\u001b[0m \u001b[0mdefault\u001b[0m\u001b[1;33m)\u001b[0m\u001b[1;33m:\u001b[0m\u001b[1;33m\u001b[0m\u001b[0m\n",
      "\u001b[1;31mSessionNotCreatedException\u001b[0m: Message: session not created: This version of ChromeDriver only supports Chrome version 103\nCurrent browser version is 110.0.5481.104 with binary path C:\\Program Files\\Google\\Chrome\\Application\\chrome.exe\n"
     ]
    }
   ],
   "source": [
    "#will moan about Message: session not created: This version of ChromeDriver only supports Chrome version 103\n",
    "#Current browser version is 110.0.5481.104 \n",
    "#adjust accordingly, but this is a serious hassle so use method 2\n",
    "import os\n",
    "from selenium import webdriver\n",
    "\n",
    "#chromedriver = \"/Users/username/Downloads/chromedriver\"\n",
    "chromedriver = \"C:\\\\Users\\\\gnmarten\\\\Downloads\\\\chromedriver_win321\\\\chromedriver.exe\"\n",
    "os.environ[\"webdriver.chrome.driver\"] = chromedriver\n",
    "driver = webdriver.Chrome(chromedriver)\n",
    "driver.get(\"http://stackoverflow.com\")\n",
    "driver.quit()"
   ]
  },
  {
   "cell_type": "markdown",
   "metadata": {},
   "source": [
    "## OPTION 2: Use webdriver_manager instead\n",
    "Or, you can install a library named webdriver_manager that will install it for you:\n",
    "<br>\n",
    "https://pypi.org/project/webdriver-manager/\n",
    "<br>\n",
    "<br>\n",
    "Thank you so much to Avishek2020 for pointing this INREDIBLE alternative on Github:\n",
    "<br>\n",
    "https://github.com/MariyaSha/TwitterBot/issues/1"
   ]
  },
  {
   "cell_type": "code",
   "execution_count": 2,
   "metadata": {},
   "outputs": [
    {
     "name": "stdout",
     "output_type": "stream",
     "text": [
      "Collecting webdriver_manager\n",
      "  Downloading webdriver_manager-3.7.1-py2.py3-none-any.whl (25 kB)\n",
      "Collecting python-dotenv\n",
      "  Downloading python_dotenv-0.20.0-py3-none-any.whl (17 kB)\n",
      "Requirement already satisfied: requests in c:\\users\\gnmarten\\documents\\python36\\lib\\site-packages (from webdriver_manager) (2.25.1)\n",
      "Requirement already satisfied: urllib3<1.27,>=1.21.1 in c:\\users\\gnmarten\\documents\\python36\\lib\\site-packages (from requests->webdriver_manager) (1.21.1)\n",
      "Requirement already satisfied: idna<3,>=2.5 in c:\\users\\gnmarten\\documents\\python36\\lib\\site-packages (from requests->webdriver_manager) (2.6)\n",
      "Requirement already satisfied: certifi>=2017.4.17 in c:\\users\\gnmarten\\documents\\python36\\lib\\site-packages (from requests->webdriver_manager) (2021.5.30)\n",
      "Requirement already satisfied: chardet<5,>=3.0.2 in c:\\users\\gnmarten\\documents\\python36\\lib\\site-packages (from requests->webdriver_manager) (3.0.4)\n",
      "Installing collected packages: python-dotenv, webdriver-manager\n",
      "Successfully installed python-dotenv-0.20.0 webdriver-manager-3.7.1\n",
      "Collecting wget\n",
      "  Downloading wget-3.2.zip (10 kB)\n",
      "  Preparing metadata (setup.py): started\n",
      "  Preparing metadata (setup.py): finished with status 'done'\n",
      "Building wheels for collected packages: wget\n",
      "  Building wheel for wget (setup.py): started\n",
      "  Building wheel for wget (setup.py): finished with status 'done'\n",
      "  Created wheel for wget: filename=wget-3.2-py3-none-any.whl size=11610 sha256=72e42307a73e6448d6182197af634dffaaf82735f8feda7307ff4ca3a0818ab1\n",
      "  Stored in directory: c:\\users\\gnmarten\\appdata\\local\\pip\\cache\\wheels\\90\\1d\\93\\c863ee832230df5cfc25ca497b3e88e0ee3ea9e44adc46ac62\n",
      "Successfully built wget\n",
      "Installing collected packages: wget\n",
      "Successfully installed wget-3.2\n"
     ]
    }
   ],
   "source": [
    "!pip install webdriver_manager\n",
    "!pip install wget\n",
    "#!pip install selenium (uncheck this if not yet installed)"
   ]
  },
  {
   "cell_type": "code",
   "execution_count": null,
   "metadata": {
    "collapsed": true
   },
   "outputs": [],
   "source": [
    "#imports here\n",
    "from selenium import webdriver\n",
    "from selenium.webdriver.common.keys import Keys\n",
    "from selenium.webdriver.support import expected_conditions as EC\n",
    "from selenium.webdriver.common.by import By\n",
    "from selenium.webdriver.support.wait import WebDriverWait\n",
    "from webdriver_manager.chrome import ChromeDriverManager"
   ]
  },
  {
   "cell_type": "code",
   "execution_count": 5,
   "metadata": {},
   "outputs": [
    {
     "name": "stdout",
     "output_type": "stream",
     "text": [
      "\n"
     ]
    },
    {
     "name": "stderr",
     "output_type": "stream",
     "text": [
      "[WDM] - ====== WebDriver manager ======\n",
      "[WDM] - Current google-chrome version is 111.0.5563\n",
      "[WDM] - Get LATEST chromedriver version for 111.0.5563 google-chrome\n",
      "[WDM] - There is no [win32] chromedriver for browser 111.0.5563 in cache\n",
      "[WDM] - About to download new driver from https://chromedriver.storage.googleapis.com/111.0.5563.64/chromedriver_win32.zip\n",
      "[WDM] - Driver has been saved in cache [C:\\Users\\gnmarten\\.wdm\\drivers\\chromedriver\\win32\\111.0.5563.64]\n"
     ]
    }
   ],
   "source": [
    "#automatically install web driver using the webdriver_manager library\n",
    "driver = webdriver.Chrome(ChromeDriverManager().install())\n",
    "#seems to work with fake passwords"
   ]
  },
  {
   "cell_type": "code",
   "execution_count": 7,
   "metadata": {},
   "outputs": [
    {
     "name": "stdout",
     "output_type": "stream",
     "text": [
      "\n"
     ]
    },
    {
     "name": "stderr",
     "output_type": "stream",
     "text": [
      "[WDM] - ====== WebDriver manager ======\n",
      "[WDM] - Current google-chrome version is 111.0.5563\n",
      "[WDM] - Get LATEST chromedriver version for 111.0.5563 google-chrome\n",
      "[WDM] - Driver [C:\\Users\\gnmarten\\.wdm\\drivers\\chromedriver\\win32\\111.0.5563.64\\chromedriver.exe] found in cache\n"
     ]
    },
    {
     "ename": "ElementClickInterceptedException",
     "evalue": "Message: element click intercepted: Element <button class=\"_acan _acap _acas _aj1-\" type=\"submit\">...</button> is not clickable at point (715, 294). Other element would receive the click: <span class=\"x1lliihq x1plvlek xryxfnj x1n2onr6 x193iq5w xeuugli x1fj9vlw x13faqbe x1vvkbs x1s928wv xhkezso x1gmr53x x1cpjm7i x1fgarty x1943h6x x1i0vuye xvs91rp xo1l8bm x5n08af x1tu3fi x3x7a5m x10wh9bi x1wdrske x8viiok x18hxmgj\" style=\"line-height: var(--base-line-clamp-line-height); --base-line-clamp-line-height:18px;\">...</span>\n  (Session info: chrome=111.0.5563.147)\n",
     "output_type": "error",
     "traceback": [
      "\u001b[1;31m---------------------------------------------------------------------------\u001b[0m",
      "\u001b[1;31mElementClickInterceptedException\u001b[0m          Traceback (most recent call last)",
      "\u001b[1;32m<ipython-input-7-a2fff88dbafb>\u001b[0m in \u001b[0;36m<module>\u001b[1;34m()\u001b[0m\n\u001b[0;32m     17\u001b[0m \u001b[1;33m\u001b[0m\u001b[0m\n\u001b[0;32m     18\u001b[0m \u001b[1;31m#target the login button and click it\u001b[0m\u001b[1;33m\u001b[0m\u001b[1;33m\u001b[0m\u001b[1;33m\u001b[0m\u001b[0m\n\u001b[1;32m---> 19\u001b[1;33m \u001b[0mbutton\u001b[0m \u001b[1;33m=\u001b[0m \u001b[0mWebDriverWait\u001b[0m\u001b[1;33m(\u001b[0m\u001b[0mdriver\u001b[0m\u001b[1;33m,\u001b[0m \u001b[1;36m2\u001b[0m\u001b[1;33m)\u001b[0m\u001b[1;33m.\u001b[0m\u001b[0muntil\u001b[0m\u001b[1;33m(\u001b[0m\u001b[0mEC\u001b[0m\u001b[1;33m.\u001b[0m\u001b[0melement_to_be_clickable\u001b[0m\u001b[1;33m(\u001b[0m\u001b[1;33m(\u001b[0m\u001b[0mBy\u001b[0m\u001b[1;33m.\u001b[0m\u001b[0mCSS_SELECTOR\u001b[0m\u001b[1;33m,\u001b[0m \u001b[1;34m\"button[type='submit']\"\u001b[0m\u001b[1;33m)\u001b[0m\u001b[1;33m)\u001b[0m\u001b[1;33m)\u001b[0m\u001b[1;33m.\u001b[0m\u001b[0mclick\u001b[0m\u001b[1;33m(\u001b[0m\u001b[1;33m)\u001b[0m\u001b[1;33m\u001b[0m\u001b[1;33m\u001b[0m\u001b[0m\n\u001b[0m\u001b[0;32m     20\u001b[0m \u001b[1;33m\u001b[0m\u001b[0m\n\u001b[0;32m     21\u001b[0m \u001b[1;31m#We are logged in!\u001b[0m\u001b[1;33m\u001b[0m\u001b[1;33m\u001b[0m\u001b[1;33m\u001b[0m\u001b[0m\n",
      "\u001b[1;32m~\\Documents\\python36\\lib\\site-packages\\selenium\\webdriver\\remote\\webelement.py\u001b[0m in \u001b[0;36mclick\u001b[1;34m(self)\u001b[0m\n\u001b[0;32m     78\u001b[0m     \u001b[1;32mdef\u001b[0m \u001b[0mclick\u001b[0m\u001b[1;33m(\u001b[0m\u001b[0mself\u001b[0m\u001b[1;33m)\u001b[0m\u001b[1;33m:\u001b[0m\u001b[1;33m\u001b[0m\u001b[1;33m\u001b[0m\u001b[0m\n\u001b[0;32m     79\u001b[0m         \u001b[1;34m\"\"\"Clicks the element.\"\"\"\u001b[0m\u001b[1;33m\u001b[0m\u001b[1;33m\u001b[0m\u001b[0m\n\u001b[1;32m---> 80\u001b[1;33m         \u001b[0mself\u001b[0m\u001b[1;33m.\u001b[0m\u001b[0m_execute\u001b[0m\u001b[1;33m(\u001b[0m\u001b[0mCommand\u001b[0m\u001b[1;33m.\u001b[0m\u001b[0mCLICK_ELEMENT\u001b[0m\u001b[1;33m)\u001b[0m\u001b[1;33m\u001b[0m\u001b[1;33m\u001b[0m\u001b[0m\n\u001b[0m\u001b[0;32m     81\u001b[0m \u001b[1;33m\u001b[0m\u001b[0m\n\u001b[0;32m     82\u001b[0m     \u001b[1;32mdef\u001b[0m \u001b[0msubmit\u001b[0m\u001b[1;33m(\u001b[0m\u001b[0mself\u001b[0m\u001b[1;33m)\u001b[0m\u001b[1;33m:\u001b[0m\u001b[1;33m\u001b[0m\u001b[1;33m\u001b[0m\u001b[0m\n",
      "\u001b[1;32m~\\Documents\\python36\\lib\\site-packages\\selenium\\webdriver\\remote\\webelement.py\u001b[0m in \u001b[0;36m_execute\u001b[1;34m(self, command, params)\u001b[0m\n\u001b[0;32m    631\u001b[0m             \u001b[0mparams\u001b[0m \u001b[1;33m=\u001b[0m \u001b[1;33m{\u001b[0m\u001b[1;33m}\u001b[0m\u001b[1;33m\u001b[0m\u001b[1;33m\u001b[0m\u001b[0m\n\u001b[0;32m    632\u001b[0m         \u001b[0mparams\u001b[0m\u001b[1;33m[\u001b[0m\u001b[1;34m'id'\u001b[0m\u001b[1;33m]\u001b[0m \u001b[1;33m=\u001b[0m \u001b[0mself\u001b[0m\u001b[1;33m.\u001b[0m\u001b[0m_id\u001b[0m\u001b[1;33m\u001b[0m\u001b[1;33m\u001b[0m\u001b[0m\n\u001b[1;32m--> 633\u001b[1;33m         \u001b[1;32mreturn\u001b[0m \u001b[0mself\u001b[0m\u001b[1;33m.\u001b[0m\u001b[0m_parent\u001b[0m\u001b[1;33m.\u001b[0m\u001b[0mexecute\u001b[0m\u001b[1;33m(\u001b[0m\u001b[0mcommand\u001b[0m\u001b[1;33m,\u001b[0m \u001b[0mparams\u001b[0m\u001b[1;33m)\u001b[0m\u001b[1;33m\u001b[0m\u001b[1;33m\u001b[0m\u001b[0m\n\u001b[0m\u001b[0;32m    634\u001b[0m \u001b[1;33m\u001b[0m\u001b[0m\n\u001b[0;32m    635\u001b[0m     \u001b[1;32mdef\u001b[0m \u001b[0mfind_element\u001b[0m\u001b[1;33m(\u001b[0m\u001b[0mself\u001b[0m\u001b[1;33m,\u001b[0m \u001b[0mby\u001b[0m\u001b[1;33m=\u001b[0m\u001b[0mBy\u001b[0m\u001b[1;33m.\u001b[0m\u001b[0mID\u001b[0m\u001b[1;33m,\u001b[0m \u001b[0mvalue\u001b[0m\u001b[1;33m=\u001b[0m\u001b[1;32mNone\u001b[0m\u001b[1;33m)\u001b[0m\u001b[1;33m:\u001b[0m\u001b[1;33m\u001b[0m\u001b[1;33m\u001b[0m\u001b[0m\n",
      "\u001b[1;32m~\\Documents\\python36\\lib\\site-packages\\selenium\\webdriver\\remote\\webdriver.py\u001b[0m in \u001b[0;36mexecute\u001b[1;34m(self, driver_command, params)\u001b[0m\n\u001b[0;32m    319\u001b[0m         \u001b[0mresponse\u001b[0m \u001b[1;33m=\u001b[0m \u001b[0mself\u001b[0m\u001b[1;33m.\u001b[0m\u001b[0mcommand_executor\u001b[0m\u001b[1;33m.\u001b[0m\u001b[0mexecute\u001b[0m\u001b[1;33m(\u001b[0m\u001b[0mdriver_command\u001b[0m\u001b[1;33m,\u001b[0m \u001b[0mparams\u001b[0m\u001b[1;33m)\u001b[0m\u001b[1;33m\u001b[0m\u001b[1;33m\u001b[0m\u001b[0m\n\u001b[0;32m    320\u001b[0m         \u001b[1;32mif\u001b[0m \u001b[0mresponse\u001b[0m\u001b[1;33m:\u001b[0m\u001b[1;33m\u001b[0m\u001b[1;33m\u001b[0m\u001b[0m\n\u001b[1;32m--> 321\u001b[1;33m             \u001b[0mself\u001b[0m\u001b[1;33m.\u001b[0m\u001b[0merror_handler\u001b[0m\u001b[1;33m.\u001b[0m\u001b[0mcheck_response\u001b[0m\u001b[1;33m(\u001b[0m\u001b[0mresponse\u001b[0m\u001b[1;33m)\u001b[0m\u001b[1;33m\u001b[0m\u001b[1;33m\u001b[0m\u001b[0m\n\u001b[0m\u001b[0;32m    322\u001b[0m             response['value'] = self._unwrap_value(\n\u001b[0;32m    323\u001b[0m                 response.get('value', None))\n",
      "\u001b[1;32m~\\Documents\\python36\\lib\\site-packages\\selenium\\webdriver\\remote\\errorhandler.py\u001b[0m in \u001b[0;36mcheck_response\u001b[1;34m(self, response)\u001b[0m\n\u001b[0;32m    240\u001b[0m                 \u001b[0malert_text\u001b[0m \u001b[1;33m=\u001b[0m \u001b[0mvalue\u001b[0m\u001b[1;33m[\u001b[0m\u001b[1;34m'alert'\u001b[0m\u001b[1;33m]\u001b[0m\u001b[1;33m.\u001b[0m\u001b[0mget\u001b[0m\u001b[1;33m(\u001b[0m\u001b[1;34m'text'\u001b[0m\u001b[1;33m)\u001b[0m\u001b[1;33m\u001b[0m\u001b[1;33m\u001b[0m\u001b[0m\n\u001b[0;32m    241\u001b[0m             \u001b[1;32mraise\u001b[0m \u001b[0mexception_class\u001b[0m\u001b[1;33m(\u001b[0m\u001b[0mmessage\u001b[0m\u001b[1;33m,\u001b[0m \u001b[0mscreen\u001b[0m\u001b[1;33m,\u001b[0m \u001b[0mstacktrace\u001b[0m\u001b[1;33m,\u001b[0m \u001b[0malert_text\u001b[0m\u001b[1;33m)\u001b[0m\u001b[1;33m\u001b[0m\u001b[1;33m\u001b[0m\u001b[0m\n\u001b[1;32m--> 242\u001b[1;33m         \u001b[1;32mraise\u001b[0m \u001b[0mexception_class\u001b[0m\u001b[1;33m(\u001b[0m\u001b[0mmessage\u001b[0m\u001b[1;33m,\u001b[0m \u001b[0mscreen\u001b[0m\u001b[1;33m,\u001b[0m \u001b[0mstacktrace\u001b[0m\u001b[1;33m)\u001b[0m\u001b[1;33m\u001b[0m\u001b[1;33m\u001b[0m\u001b[0m\n\u001b[0m\u001b[0;32m    243\u001b[0m \u001b[1;33m\u001b[0m\u001b[0m\n\u001b[0;32m    244\u001b[0m     \u001b[1;32mdef\u001b[0m \u001b[0m_value_or_default\u001b[0m\u001b[1;33m(\u001b[0m\u001b[0mself\u001b[0m\u001b[1;33m,\u001b[0m \u001b[0mobj\u001b[0m\u001b[1;33m,\u001b[0m \u001b[0mkey\u001b[0m\u001b[1;33m,\u001b[0m \u001b[0mdefault\u001b[0m\u001b[1;33m)\u001b[0m\u001b[1;33m:\u001b[0m\u001b[1;33m\u001b[0m\u001b[1;33m\u001b[0m\u001b[0m\n",
      "\u001b[1;31mElementClickInterceptedException\u001b[0m: Message: element click intercepted: Element <button class=\"_acan _acap _acas _aj1-\" type=\"submit\">...</button> is not clickable at point (715, 294). Other element would receive the click: <span class=\"x1lliihq x1plvlek xryxfnj x1n2onr6 x193iq5w xeuugli x1fj9vlw x13faqbe x1vvkbs x1s928wv xhkezso x1gmr53x x1cpjm7i x1fgarty x1943h6x x1i0vuye xvs91rp xo1l8bm x5n08af x1tu3fi x3x7a5m x10wh9bi x1wdrske x8viiok x18hxmgj\" style=\"line-height: var(--base-line-clamp-line-height); --base-line-clamp-line-height:18px;\">...</span>\n  (Session info: chrome=111.0.5563.147)\n"
     ]
    }
   ],
   "source": [
    "#automatically install web driver using the webdriver_manager library\n",
    "driver = webdriver.Chrome(ChromeDriverManager().install())\n",
    "#seems to work with fake passwords\n",
    "\n",
    "#open the webpage\n",
    "driver.get(\"http://www.instagram.com\")\n",
    "\n",
    "#target username\n",
    "username = WebDriverWait(driver, 10).until(EC.element_to_be_clickable((By.CSS_SELECTOR, \"input[name='username']\")))\n",
    "password = WebDriverWait(driver, 10).until(EC.element_to_be_clickable((By.CSS_SELECTOR, \"input[name='password']\")))\n",
    "\n",
    "#enter username and password\n",
    "username.clear()\n",
    "username.send_keys(\"my_username\")\n",
    "password.clear()\n",
    "password.send_keys(\"my_password\")\n",
    "\n",
    "#target the login button and click it\n",
    "button = WebDriverWait(driver, 2).until(EC.element_to_be_clickable((By.CSS_SELECTOR, \"button[type='submit']\"))).click()\n",
    "\n",
    "#We are logged in!\n",
    "#actually, You don't need to be logged in for public profiles, so the code will generate an error (but you may continue anyway)\n",
    "#inserting your password might trigger some warning from Instagram that requires you to reset your password\n",
    "# so decide for yourselves and don't blame me (use a spoof account for this?)"
   ]
  },
  {
   "cell_type": "code",
   "execution_count": 12,
   "metadata": {
    "collapsed": true
   },
   "outputs": [],
   "source": [
    "#hadle NOT NOW not needed in my case\n",
    "not_now = WebDriverWait(driver, 10).until(EC.element_to_be_clickable((By.XPATH, '//button[contains(text(), \"Not Now\")]'))).click()\n",
    "#not_now2 = WebDriverWait(driver, 10).until(EC.element_to_be_clickable((By.XPATH, '//button[contains(text(), \"Not Now\")]'))).click()"
   ]
  },
  {
   "cell_type": "markdown",
   "metadata": {},
   "source": [
    "## Search keywords"
   ]
  },
  {
   "cell_type": "code",
   "execution_count": 8,
   "metadata": {
    "collapsed": true
   },
   "outputs": [],
   "source": [
    "import time\n",
    "\n",
    "keyword = \"cat\"\n",
    "driver.get(\"https://www.instagram.com/explore/tags/\" + keyword + \"/\")\n",
    " \n",
    "# Wait for 5 seconds\n",
    "time.sleep(5)"
   ]
  },
  {
   "cell_type": "code",
   "execution_count": 10,
   "metadata": {},
   "outputs": [
    {
     "name": "stdout",
     "output_type": "stream",
     "text": [
      "Number of scraped images:  35\n"
     ]
    }
   ],
   "source": [
    "#scroll down to scrape more images\n",
    "driver.execute_script(\"window.scrollTo(0, document.body.scrollHeight);\")\n",
    "\n",
    "#target all images on the page\n",
    "images = driver.find_elements(By.TAG_NAME, 'img')\n",
    "images = [image.get_attribute('src') for image in images]\n",
    "images = images[:-2]\n",
    "\n",
    "print('Number of scraped images: ', len(images))"
   ]
  },
  {
   "cell_type": "markdown",
   "metadata": {},
   "source": [
    "## Save images to computer\n",
    "\n",
    "First we'll create a new folder for our images somewhere on our computer.\n",
    "<br>\n",
    "Then, we'll save all the images there."
   ]
  },
  {
   "cell_type": "code",
   "execution_count": 11,
   "metadata": {},
   "outputs": [
    {
     "data": {
      "text/plain": [
       "'C:\\\\Users\\\\gnmarten\\\\Documents\\\\GitHub\\\\cats'"
      ]
     },
     "execution_count": 11,
     "metadata": {},
     "output_type": "execute_result"
    }
   ],
   "source": [
    "import os\n",
    "import wget\n",
    "\n",
    "path = os.getcwd()\n",
    "path = os.path.join(path, keyword + \"s\")\n",
    "\n",
    "#create the directory\n",
    "os.mkdir(path)\n",
    "\n",
    "path"
   ]
  },
  {
   "cell_type": "code",
   "execution_count": 12,
   "metadata": {},
   "outputs": [
    {
     "name": "stdout",
     "output_type": "stream",
     "text": [
      "100% [............................................................................] 218088 / 218088"
     ]
    }
   ],
   "source": [
    "#download images\n",
    "counter = 0\n",
    "for image in images[3:]:\n",
    "    save_as = os.path.join(path, keyword + str(counter) + '.jpg')\n",
    "    wget.download(image, save_as)\n",
    "    counter += 1  "
   ]
  },
  {
   "cell_type": "markdown",
   "metadata": {},
   "source": [
    "## Save text to computer\n",
    "\n",
    "From one individual account, adjust according to your needs."
   ]
  },
  {
   "cell_type": "code",
   "execution_count": 9,
   "metadata": {
    "collapsed": true
   },
   "outputs": [],
   "source": [
    "#preparing the routine for downloading an account's posts, this will not generate output\n",
    "def get_most_recent_posts_links(account_name, num_posts=15):\n",
    "    url = \"https://www.instagram.com/\" + account_name + \"/\"\n",
    "    driver.get(url)\n",
    "    \n",
    "    posts_links = []\n",
    "    while len(posts_links) < num_posts:\n",
    "        links = [a.get_attribute('href') for a in driver.find_elements(by=By.TAG_NAME, value='a')]\n",
    "        for link in links:\n",
    "            if (\"https://www.instagram.com/p/\" in link) and (link not in posts_links):\n",
    "                posts_links.append(link)\n",
    "        scroll_down = \"window.scrollTo(0, document.body.scrollHeight);\"\n",
    "        driver.execute_script(scroll_down)\n",
    "        time.sleep(10)\n",
    "    else:\n",
    "        driver.stop_client()\n",
    "        return posts_links[:num_posts]"
   ]
  },
  {
   "cell_type": "code",
   "execution_count": 10,
   "metadata": {},
   "outputs": [
    {
     "data": {
      "text/plain": [
       "['https://www.instagram.com/p/CppOyoxDv8P/',\n",
       " 'https://www.instagram.com/p/ClqLas2Dshc/',\n",
       " 'https://www.instagram.com/p/CaW-M0nj8ZJ/',\n",
       " 'https://www.instagram.com/p/CqsTXnYIGvl/',\n",
       " 'https://www.instagram.com/p/Cqp1xijo1b9/',\n",
       " 'https://www.instagram.com/p/CqlHkwRjft-/']"
      ]
     },
     "execution_count": 10,
     "metadata": {},
     "output_type": "execute_result"
    }
   ],
   "source": [
    "#name the account here, limited to first six posts for time reasons; assumes this is a public profile\n",
    "de_posts = get_most_recent_posts_links(account_name=\"deliciouslyella\", num_posts=6)\n",
    "de_posts"
   ]
  },
  {
   "cell_type": "code",
   "execution_count": 11,
   "metadata": {},
   "outputs": [
    {
     "data": {
      "text/plain": [
       "'Making this week😍😍😍'"
      ]
     },
     "execution_count": 11,
     "metadata": {},
     "output_type": "execute_result"
    }
   ],
   "source": [
    "#just a test to see if the XPATH is correct\n",
    "driver.get(de_posts[2])\n",
    "time.sleep(10)\n",
    "#driver.find_element(By.XPATH, \"//span[@class='_aauw']\").text\n",
    "driver.find_element(By.XPATH, \"//span[@class='_aacl _aaco _aacu _aacx _aad7 _aade']\").text\n",
    "#for posts with text _aacl _aaco _aacu _aacx _aad7 _aade\n",
    "#currently seems to be _aacl _aaco _aacu _aacx _aad7 _aade"
   ]
  },
  {
   "cell_type": "code",
   "execution_count": 12,
   "metadata": {},
   "outputs": [
    {
     "name": "stdout",
     "output_type": "stream",
     "text": [
      "Post number: 0\n",
      "Post link: https://www.instagram.com/p/CppOyoxDv8P/\n",
      "\n",
      "Number of likes/views:  31,272 likes\n",
      "\n",
      "Date posted: 2023-03-11T11:35:40.000Z\n",
      "\n",
      "Post description:\n",
      "Just WOW! We made this last night and it was UNREAL! So fresh and vibrant and that sauce…. Game changer!\n",
      "\n",
      "------------------\n",
      "\n",
      "Post number: 1\n",
      "Post link: https://www.instagram.com/p/ClqLas2Dshc/\n",
      "\n",
      "Number of likes/views:  10,784 likes\n",
      "\n",
      "Date posted: 2022-12-02T08:38:17.000Z\n",
      "\n",
      "Post description:\n",
      "I love your recipes, do you have any books for sale in Canada? ❤️\n",
      "\n",
      "------------------\n",
      "\n",
      "Post number: 2\n",
      "Post link: https://www.instagram.com/p/CaW-M0nj8ZJ/\n",
      "\n",
      "Number of likes/views:  63,504 likes\n",
      "\n",
      "Date posted: 2022-02-24T11:49:21.000Z\n",
      "\n",
      "Post description:\n",
      "Making this week😍😍😍\n",
      "\n",
      "------------------\n",
      "\n",
      "Post number: 3\n",
      "Post link: https://www.instagram.com/p/CqsTXnYIGvl/\n",
      "\n",
      "Number of likes/views:  2,992 likes\n",
      "\n",
      "Date posted: 2023-04-06T11:00:16.000Z\n",
      "\n",
      "Post description:\n",
      "Yum!!!!\n",
      "\n",
      "------------------\n",
      "\n",
      "Post number: 4\n",
      "Post link: https://www.instagram.com/p/Cqp1xijo1b9/\n",
      "\n",
      "Number of likes/views:  5,411 likes\n",
      "\n",
      "Date posted: 2023-04-05T12:02:46.000Z\n",
      "\n",
      "Post description:\n",
      "Dit ziet er te lekker uit 🔥\n",
      "\n",
      "------------------\n",
      "\n",
      "Post number: 5\n",
      "Post link: https://www.instagram.com/p/CqlHkwRjft-/\n",
      "\n",
      "Number of likes/views:  14,809 likes\n",
      "\n",
      "Date posted: 2023-04-03T16:02:27.000Z\n",
      "\n",
      "Post description:\n",
      "@cyril_chazottes 🤤\n",
      "\n",
      "------------------\n",
      "\n"
     ]
    }
   ],
   "source": [
    "#currently stumbles over posts with no text, but bookstagram won't have those prolly\n",
    "for i, post in enumerate(de_posts):\n",
    "    print(f\"Post number: {i}\\nPost link: {post}\\n\")\n",
    "    # open link to post\n",
    "    driver.get(post)\n",
    "    # wait for page to load\n",
    "    time.sleep(5)\n",
    "    try:\n",
    "        likes = driver.find_element(By.PARTIAL_LINK_TEXT, \"like\").text\n",
    "    except:\n",
    "        likes = driver.find_element(By.XPATH, \"//span[@class='_aauw']\").text\n",
    "    print(f\"Number of likes/views:  {likes}\\n\")\n",
    "    date = driver.find_element(By.XPATH, \"//time\").get_attribute('datetime')\n",
    "    print(f\"Date posted: {date}\\n\")\n",
    "    print(\"Post description:\")\n",
    "    print(driver.find_element(By.XPATH, \"//span[@class='_aacl _aaco _aacu _aacx _aad7 _aade']\").text)\n",
    "    print('\\n------------------\\n')"
   ]
  },
  {
   "cell_type": "code",
   "execution_count": 13,
   "metadata": {
    "collapsed": true
   },
   "outputs": [],
   "source": [
    "#driver.get(de_posts[3])"
   ]
  },
  {
   "cell_type": "code",
   "execution_count": 16,
   "metadata": {},
   "outputs": [
    {
     "name": "stdout",
     "output_type": "stream",
     "text": [
      "Post number: 0\n",
      "Post link: https://www.instagram.com/p/CppOyoxDv8P/\n",
      "\n",
      "Number of likes/views:  31,272 likes\n",
      "\n",
      "Date posted: 2023-03-11T11:35:40.000Z\n",
      "\n",
      "Post description:\n",
      "Just WOW! We made this last night and it was UNREAL! So fresh and vibrant and that sauce…. Game changer!\n",
      "\n",
      "------------------\n",
      "\n",
      "Post number: 1\n",
      "Post link: https://www.instagram.com/p/ClqLas2Dshc/\n",
      "\n",
      "Number of likes/views:  10,784 likes\n",
      "\n",
      "Date posted: 2022-12-02T08:38:17.000Z\n",
      "\n",
      "Post description:\n",
      "I love your recipes, do you have any books for sale in Canada? ❤️\n",
      "\n",
      "------------------\n",
      "\n",
      "Post number: 2\n",
      "Post link: https://www.instagram.com/p/CaW-M0nj8ZJ/\n",
      "\n",
      "Number of likes/views:  63,504 likes\n",
      "\n",
      "Date posted: 2022-02-24T11:49:21.000Z\n",
      "\n",
      "Post description:\n",
      "Making this week😍😍😍\n",
      "\n",
      "------------------\n",
      "\n",
      "Post number: 3\n",
      "Post link: https://www.instagram.com/p/CqsTXnYIGvl/\n",
      "\n",
      "Number of likes/views:  3,059 likes\n",
      "\n",
      "Date posted: 2023-04-06T11:00:16.000Z\n",
      "\n",
      "Post description:\n",
      "Dear Ella, may I ask which mixer you recommend more? Ninja or Nutribullet? Thank you so much!\n",
      "\n",
      "------------------\n",
      "\n",
      "Post number: 4\n",
      "Post link: https://www.instagram.com/p/Cqp1xijo1b9/\n",
      "\n",
      "Number of likes/views:  5,419 likes\n",
      "\n",
      "Date posted: 2023-04-05T12:02:46.000Z\n",
      "\n",
      "Post description:\n",
      "Dit ziet er te lekker uit 🔥\n",
      "\n",
      "------------------\n",
      "\n",
      "Post number: 5\n",
      "Post link: https://www.instagram.com/p/CqlHkwRjft-/\n",
      "\n",
      "Number of likes/views:  14,815 likes\n",
      "\n",
      "Date posted: 2023-04-03T16:02:27.000Z\n",
      "\n",
      "Post description:\n",
      "@cyril_chazottes 🤤\n",
      "\n",
      "------------------\n",
      "\n"
     ]
    }
   ],
   "source": [
    "import pandas as pd\n",
    "\n",
    "# create an empty list to store post information\n",
    "post_list = []\n",
    "\n",
    "# loop through each post and extract information\n",
    "for i, post in enumerate(de_posts):\n",
    "    print(f\"Post number: {i}\\nPost link: {post}\\n\")\n",
    "    # open link to post\n",
    "    driver.get(post)\n",
    "    # wait for page to load\n",
    "    time.sleep(5)\n",
    "    try:\n",
    "        likes = driver.find_element(By.PARTIAL_LINK_TEXT, \"like\").text\n",
    "    except:\n",
    "        likes = driver.find_element(By.XPATH, \"//span[@class='_aauw']\").text\n",
    "    print(f\"Number of likes/views:  {likes}\\n\")\n",
    "    date = driver.find_element(By.XPATH, \"//time\").get_attribute('datetime')\n",
    "    print(f\"Date posted: {date}\\n\")\n",
    "    print(\"Post description:\")\n",
    "    text = driver.find_element(By.XPATH, \"//span[@class='_aacl _aaco _aacu _aacx _aad7 _aade']\").text\n",
    "    print(text)\n",
    "    print('\\n------------------\\n')\n",
    "    \n",
    "    # create a dictionary with the post information\n",
    "    post_dict = {'i': i, 'post': post, 'likes': likes, 'date': date, 'text': text}\n",
    "    \n",
    "    # append the dictionary to the post list\n",
    "    post_list.append(post_dict)\n",
    "\n",
    "# create a Pandas DataFrame from the post list\n",
    "df = pd.DataFrame(post_list)\n"
   ]
  },
  {
   "cell_type": "code",
   "execution_count": 19,
   "metadata": {},
   "outputs": [
    {
     "data": {
      "text/html": [
       "<div>\n",
       "<style scoped>\n",
       "    .dataframe tbody tr th:only-of-type {\n",
       "        vertical-align: middle;\n",
       "    }\n",
       "\n",
       "    .dataframe tbody tr th {\n",
       "        vertical-align: top;\n",
       "    }\n",
       "\n",
       "    .dataframe thead th {\n",
       "        text-align: right;\n",
       "    }\n",
       "</style>\n",
       "<table border=\"1\" class=\"dataframe\">\n",
       "  <thead>\n",
       "    <tr style=\"text-align: right;\">\n",
       "      <th></th>\n",
       "      <th>i</th>\n",
       "      <th>post</th>\n",
       "      <th>like</th>\n",
       "      <th>likes</th>\n",
       "      <th>date</th>\n",
       "      <th>text</th>\n",
       "    </tr>\n",
       "  </thead>\n",
       "  <tbody>\n",
       "    <tr>\n",
       "      <th>0</th>\n",
       "      <td>0</td>\n",
       "      <td>https://www.instagram.com/p/CppOyoxDv8P/</td>\n",
       "      <td>31,272 likes</td>\n",
       "      <td>None</td>\n",
       "      <td>2023-03-11T11:35:40.000Z</td>\n",
       "      <td>Just WOW! We made this last night and it was U...</td>\n",
       "    </tr>\n",
       "    <tr>\n",
       "      <th>1</th>\n",
       "      <td>1</td>\n",
       "      <td>https://www.instagram.com/p/ClqLas2Dshc/</td>\n",
       "      <td>10,784 likes</td>\n",
       "      <td>None</td>\n",
       "      <td>2022-12-02T08:38:17.000Z</td>\n",
       "      <td>I love your recipes, do you have any books for...</td>\n",
       "    </tr>\n",
       "    <tr>\n",
       "      <th>2</th>\n",
       "      <td>2</td>\n",
       "      <td>https://www.instagram.com/p/CaW-M0nj8ZJ/</td>\n",
       "      <td>63,504 likes</td>\n",
       "      <td>None</td>\n",
       "      <td>2022-02-24T11:49:21.000Z</td>\n",
       "      <td>Making this week😍😍😍</td>\n",
       "    </tr>\n",
       "    <tr>\n",
       "      <th>3</th>\n",
       "      <td>3</td>\n",
       "      <td>https://www.instagram.com/p/CqsTXnYIGvl/</td>\n",
       "      <td>3,059 likes</td>\n",
       "      <td>None</td>\n",
       "      <td>2023-04-06T11:00:16.000Z</td>\n",
       "      <td>Dear Ella, may I ask which mixer you recommend...</td>\n",
       "    </tr>\n",
       "    <tr>\n",
       "      <th>4</th>\n",
       "      <td>4</td>\n",
       "      <td>https://www.instagram.com/p/Cqp1xijo1b9/</td>\n",
       "      <td>5,419 likes</td>\n",
       "      <td>None</td>\n",
       "      <td>2023-04-05T12:02:46.000Z</td>\n",
       "      <td>Dit ziet er te lekker uit 🔥</td>\n",
       "    </tr>\n",
       "  </tbody>\n",
       "</table>\n",
       "</div>"
      ],
      "text/plain": [
       "   i                                      post          like likes  \\\n",
       "0  0  https://www.instagram.com/p/CppOyoxDv8P/  31,272 likes  None   \n",
       "1  1  https://www.instagram.com/p/ClqLas2Dshc/  10,784 likes  None   \n",
       "2  2  https://www.instagram.com/p/CaW-M0nj8ZJ/  63,504 likes  None   \n",
       "3  3  https://www.instagram.com/p/CqsTXnYIGvl/   3,059 likes  None   \n",
       "4  4  https://www.instagram.com/p/Cqp1xijo1b9/   5,419 likes  None   \n",
       "\n",
       "                       date                                               text  \n",
       "0  2023-03-11T11:35:40.000Z  Just WOW! We made this last night and it was U...  \n",
       "1  2022-12-02T08:38:17.000Z  I love your recipes, do you have any books for...  \n",
       "2  2022-02-24T11:49:21.000Z                                Making this week😍😍😍  \n",
       "3  2023-04-06T11:00:16.000Z  Dear Ella, may I ask which mixer you recommend...  \n",
       "4  2023-04-05T12:02:46.000Z                        Dit ziet er te lekker uit 🔥  "
      ]
     },
     "execution_count": 19,
     "metadata": {},
     "output_type": "execute_result"
    }
   ],
   "source": [
    "len(df) \n",
    "df.head()"
   ]
  },
  {
   "cell_type": "code",
   "execution_count": 18,
   "metadata": {
    "collapsed": true
   },
   "outputs": [],
   "source": [
    "import pandas as pd\n",
    "\n",
    "# assume df is your DataFrame containing i, post, like, likes, date, and text columns\n",
    "df.to_csv('output_1bookstagramaccount.csv', index=False)\n"
   ]
  },
  {
   "cell_type": "code",
   "execution_count": 14,
   "metadata": {
    "collapsed": true
   },
   "outputs": [],
   "source": [
    "def get_posts_details(posts_list):\n",
    "    '''\n",
    "    Input: a list of links to posts.\n",
    "    \n",
    "    Output: a dataframe with details of each post, including -\n",
    "            [link, time posted, number of likes, number of comments, post description]\n",
    "    '''\n",
    "    \n",
    "    for post in posts_list:\n",
    "        \n",
    "        # open link to post\n",
    "        driver.get(post)\n",
    "        # wait for page to load\n",
    "        time.sleep(5)\n",
    "        \n",
    "        age = driver.find_element(By.XPATH, \"//time\").get_attribute('datetime')\n",
    "        \n",
    "        "
   ]
  },
  {
   "cell_type": "code",
   "execution_count": 15,
   "metadata": {},
   "outputs": [
    {
     "ename": "NameError",
     "evalue": "name 'mob_posts' is not defined",
     "output_type": "error",
     "traceback": [
      "\u001b[1;31m---------------------------------------------------------------------------\u001b[0m",
      "\u001b[1;31mNameError\u001b[0m                                 Traceback (most recent call last)",
      "\u001b[1;32m<ipython-input-15-5ea19ef580d3>\u001b[0m in \u001b[0;36m<module>\u001b[1;34m()\u001b[0m\n\u001b[0;32m     34\u001b[0m     \u001b[1;32mreturn\u001b[0m \u001b[0mpost_details\u001b[0m\u001b[1;33m\u001b[0m\u001b[1;33m\u001b[0m\u001b[0m\n\u001b[0;32m     35\u001b[0m \u001b[1;33m\u001b[0m\u001b[0m\n\u001b[1;32m---> 36\u001b[1;33m \u001b[0minsta_link_details\u001b[0m\u001b[1;33m(\u001b[0m\u001b[0mmob_posts\u001b[0m\u001b[1;33m[\u001b[0m\u001b[1;36m0\u001b[0m\u001b[1;33m]\u001b[0m\u001b[1;33m)\u001b[0m\u001b[1;33m\u001b[0m\u001b[1;33m\u001b[0m\u001b[0m\n\u001b[0m",
      "\u001b[1;31mNameError\u001b[0m: name 'mob_posts' is not defined"
     ]
    }
   ],
   "source": [
    "def insta_link_details(url):\n",
    "    \"\"\"\n",
    "    Take a post url and return post details\n",
    "    Args:\n",
    "    urls: a list of urls for Instagram posts \n",
    "    Returns:\n",
    "    A list of dictionaries with details for each Instagram post, including link,\n",
    "    post type, like/view count, age (when posted), and initial comment\n",
    "    \"\"\"\n",
    "\n",
    "    driver.get(url)\n",
    "    time.sleep(5)\n",
    "    \n",
    "    try:\n",
    "        # This captures the standard like count.\n",
    "        likes = driver.find_element(by=By.PARTIAL_LINK_TEXT, value=\" likes\").text\n",
    "        post_type = 'photo'\n",
    "        \n",
    "    except:\n",
    "        # This captures the like count for videos which is stored\n",
    "        likes = driver.find_element_by_xpath(\n",
    "            \"\"\"/html/body/div[1]/section/main/div/div/article/\n",
    "                div[3]/section[2]/div/span/span\"\"\").text.split()[0]\n",
    "        post_type = 'video'\n",
    "    age = driver.find_element_by_css_selector('a time').text\n",
    "    comment = driver.find_element_by_xpath(\n",
    "        \"\"\"/html/body/div[1]/section/main/div/div[1]/article/\n",
    "        div[3]/div[1]/ul/div/li/div/div/div[2]/span\"\"\").text\n",
    "    \n",
    "    \n",
    "    post_details = {'link': url, 'type': post_type, 'likes/views': likes,\n",
    "                    'age': age, 'comment': comment}\n",
    "    time.sleep(10)\n",
    "    return post_details\n",
    "\n",
    "insta_link_details(mob_posts[0])\n",
    "#does not work yet"
   ]
  }
 ],
 "metadata": {
  "kernelspec": {
   "display_name": "Python 3",
   "language": "python",
   "name": "python3"
  },
  "language_info": {
   "codemirror_mode": {
    "name": "ipython",
    "version": 3
   },
   "file_extension": ".py",
   "mimetype": "text/x-python",
   "name": "python",
   "nbconvert_exporter": "python",
   "pygments_lexer": "ipython3",
   "version": "3.6.11"
  }
 },
 "nbformat": 4,
 "nbformat_minor": 4
}
