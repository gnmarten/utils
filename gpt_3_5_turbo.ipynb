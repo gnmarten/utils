{
  "nbformat": 4,
  "nbformat_minor": 0,
  "metadata": {
    "colab": {
      "provenance": []
    },
    "kernelspec": {
      "name": "python3",
      "display_name": "Python 3"
    },
    "language_info": {
      "name": "python"
    }
  },
  "cells": [
    {
      "cell_type": "code",
      "source": [
        "import requests\n",
        "API_KEY = 'your_api_key_here'\n",
        "ENGINE_ID_DAVINCI = 'davinci'\n",
        "ENGINE_ID_TEXT_DAVINCI_003 = 'text-davinci-003'\n",
        "ENGINE_ID_TURBO = 'gpt-3.5-turbo'\n",
        "\n",
        "def generate_text(prompt, engine_id):\n",
        "    headers = {\n",
        "        'Content-Type': 'application/json',\n",
        "        'Authorization': f'Bearer {API_KEY}'\n",
        "    }\n",
        "\n",
        "    data = {\n",
        "        'prompt': prompt,\n",
        "        'max_tokens': 50,\n",
        "        'temperature': 0.5,\n",
        "        'n': 1\n",
        "    }\n",
        "\n",
        "    response = requests.post(f'https://api.openai.com/v1/engines/{engine_id}/completions', headers=headers, json=data)\n",
        "\n",
        "    if response.status_code == 200:\n",
        "        return response.json()['choices'][0]['text']\n",
        "    else:\n",
        "        return f'Error ({response.status_code}): {response.text}'\n",
        "\n",
        "prompt = 'Write a haiku about the sun.'\n",
        "print('Engine:' + ENGINE_ID_DAVINCI) \n",
        "generated_text = generate_text(prompt, ENGINE_ID_DAVINCI)\n",
        "print(generated_text) \n",
        "print\n",
        "print \n",
        "print('-' *50)\n",
        "\n",
        "print('Engine:' + ENGINE_ID_TEXT_DAVINCI_003)\n",
        "generated_text = generate_text(prompt, ENGINE_ID_TEXT_DAVINCI_003)\n",
        "print(generated_text)\n",
        "print \n",
        "print\n",
        "print('-' *50)\n",
        "\n",
        "print('Engine:' + ENGINE_ID_TURBO)\n",
        "generated_text = generate_text(prompt, ENGINE_ID_TEXT_DAVINCI_003) \n",
        "print (generated_text)\n"
      ],
      "metadata": {
        "colab": {
          "base_uri": "https://localhost:8080/"
        },
        "id": "7PTHfz_Y_vMQ",
        "outputId": "9a9fab9d-79fd-4c70-8af5-736c223b4efa"
      },
      "execution_count": 5,
      "outputs": [
        {
          "output_type": "stream",
          "name": "stdout",
          "text": [
            "Engine:davinci\n",
            "\n",
            "\n",
            "\n",
            "The sun is a star.\n",
            "\n",
            "It rises in the east\n",
            "\n",
            "And sets in the west.\n",
            "\n",
            "\n",
            "The sun is hot.\n",
            "\n",
            "It makes me sweat.\n",
            "\n",
            "It makes me dry.\n",
            "\n",
            "\n",
            "The sun is bright\n",
            "--------------------------------------------------\n",
            "Engine:text-davinci-003\n",
            "\n",
            "\n",
            "Warm and bright, the sun\n",
            "Rises in the morning sky\n",
            "Bringing hope anew\n",
            "--------------------------------------------------\n",
            "Engine:gpt-3.5-turbo\n",
            "\n",
            "\n",
            "Rising in the sky,\n",
            "Warmth and light it brings us all,\n",
            "Beauty of the sun.\n"
          ]
        }
      ]
    }
  ]
}
