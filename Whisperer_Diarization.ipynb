{
  "cells": [
    {
      "cell_type": "markdown",
      "source": [
        "[![Open In Colab](https://colab.research.google.com/assets/colab-badge.svg)](https://colab.research.google.com/drive/1WE-wTD1fhW7DJ3B4HOcdsIXNQj2-LjF1?usp=sharing)"
      ],
      "metadata": {
        "id": "pzcxiGbOtLbr"
      }
    },
    {
      "cell_type": "markdown",
      "source": [
        "Colab implementation of the (very powerful) Whisperer repository made by Miguel Valente - https://github.com/miguelvalente/whisperer . Allows to go from raw audio files to a text-audio dataset (for TTS training purposes in Coqui) automatically with OpenAI's Whisper. Diarisation, chunking, metadata.csv in one go. Writes wav files containing speech by one speaker. "
      ],
      "metadata": {
        "id": "U48LYOdRtHuM"
      }
    },
    {
      "cell_type": "code",
      "source": [
        "from google.colab import drive\n",
        "drive.mount('/content/drive')\n",
        "%cd /content/drive/My Drive/whisperer-master\n"
      ],
      "metadata": {
        "id": "S7ZBrslXDzvC"
      },
      "execution_count": null,
      "outputs": []
    },
    {
      "cell_type": "code",
      "source": [
        "#!curl -sSL https://raw.githubusercontent.com/python-poetry/poetry/master/get-poetry.py | python"
      ],
      "metadata": {
        "id": "WqfRPobUEl1E"
      },
      "execution_count": null,
      "outputs": []
    },
    {
      "cell_type": "code",
      "source": [
        "!pip install -qq pyannote.audio==2.1.1"
      ],
      "metadata": {
        "id": "EIzVOYaZLwQw"
      },
      "execution_count": null,
      "outputs": []
    },
    {
      "cell_type": "code",
      "source": [
        "!pip install git+https://github.com/openai/whisper.git\n",
        "!pip install librosa==\"0.8.0\"\n",
        "#!pip install numpy=\"1.22.3\"\n",
        "#!pip install pydub=\"0.25.1\"\n",
        "#!pip install scipy=\"1.8.0\"\n",
        "#!pip install torch=\"1.13.0\"\n",
        "#!pip install torchaudio=\"0.13.0\"\n",
        "#!pip install jupyter = \"^1.0.0\"\n",
        "#ffmpeg-python = \"^0.2.0\"\n",
        "!pip install transformers==\"^4.25.1\"\n",
        "!pip install tqdm==\"^4.64.1\"\n",
        "!pip install click==\"^8.1.3\"\n",
        "#pyannote-audio = \"^2.1.1\""
      ],
      "metadata": {
        "id": "5vmFRiOSuthm"
      },
      "execution_count": null,
      "outputs": []
    },
    {
      "cell_type": "code",
      "source": [
        "!pip install -q --pre poetry\n",
        "!poetry --version"
      ],
      "metadata": {
        "id": "n_TmZvjdE2QB"
      },
      "execution_count": null,
      "outputs": []
    },
    {
      "cell_type": "code",
      "source": [
        "!poetry config virtualenvs.in-project false"
      ],
      "metadata": {
        "id": "vtFF0AdcE-KZ"
      },
      "execution_count": null,
      "outputs": []
    },
    {
      "cell_type": "code",
      "source": [
        "!poetry install\n",
        "#!poetry shell"
      ],
      "metadata": {
        "id": "1GqZJC6iD_EZ"
      },
      "execution_count": null,
      "outputs": []
    },
    {
      "cell_type": "markdown",
      "metadata": {
        "id": "idY810oXDwjI"
      },
      "source": [
        "## Diarization"
      ]
    },
    {
      "cell_type": "code",
      "source": [
        "#presupposes you manually uploaded the audio files in /content/drive/MyDrive/whisperer-master/data/audio_files/\n",
        "!python -m main convert"
      ],
      "metadata": {
        "id": "xDz9y8Zn3uN6"
      },
      "execution_count": null,
      "outputs": []
    },
    {
      "cell_type": "code",
      "source": [
        "!python -m main diarize"
      ],
      "metadata": {
        "id": "ARI6_ks51f9Q"
      },
      "execution_count": null,
      "outputs": []
    },
    {
      "cell_type": "code",
      "source": [],
      "metadata": {
        "id": "yfc7v9Ea4DNF"
      },
      "execution_count": null,
      "outputs": []
    },
    {
      "cell_type": "code",
      "source": [
        "#guess at number of speakers\n",
        "!python -m main auto-label 5"
      ],
      "metadata": {
        "id": "MS1JBrv65lMP"
      },
      "execution_count": null,
      "outputs": []
    },
    {
      "cell_type": "code",
      "source": [
        "#adjust name of the dataset \"lquartett260\" according to your wishes\n",
        "!python -m main transcribe lquartett260"
      ],
      "metadata": {
        "id": "dypu0YpR6Q9C"
      },
      "execution_count": null,
      "outputs": []
    },
    {
      "cell_type": "code",
      "source": [
        "!python -m main convert diarize auto-label 58 transcribe lquartett260"
      ],
      "metadata": {
        "id": "62Z5uqcqCqvr"
      },
      "execution_count": null,
      "outputs": []
    },
    {
      "cell_type": "code",
      "execution_count": null,
      "metadata": {
        "id": "tD6k6OGSDwjS"
      },
      "outputs": [],
      "source": []
    },
    {
      "cell_type": "code",
      "source": [
        "#in case colab moans about locale: some strategies\n",
        "import os\n",
        "\n",
        "# Set the LC_ALL environment variable to a German UTF-8 locale\n",
        "os.environ['LC_ALL'] = 'de_DE.UTF-8'"
      ],
      "metadata": {
        "id": "d5Qc31VFOskS"
      },
      "execution_count": null,
      "outputs": []
    },
    {
      "cell_type": "code",
      "source": [
        "import os\n",
        "\n",
        "# Set the LANG environment variable to a German UTF-8 locale\n",
        "os.environ['LANG'] = 'de_DE.UTF-8'"
      ],
      "metadata": {
        "id": "VRbXNWhEO1MZ"
      },
      "execution_count": null,
      "outputs": []
    },
    {
      "cell_type": "code",
      "source": [
        "!export LC_ALL=en_US.UTF-8"
      ],
      "metadata": {
        "id": "XcPqECGcO99y"
      },
      "execution_count": null,
      "outputs": []
    },
    {
      "cell_type": "code",
      "source": [
        "!apt-get -qq update\n",
        "!apt-get -qq install -y locales\n",
        "!locale-gen en_US.UTF-8\n",
        "!update-locale LANG=en_US.UTF-8\n",
        "import os\n",
        "\n",
        "os.environ['LC_ALL'] = 'en_US.UTF-8'"
      ],
      "metadata": {
        "id": "fpE3s4I6PFhJ"
      },
      "execution_count": null,
      "outputs": []
    },
    {
      "cell_type": "code",
      "source": [
        "import locale\n",
        "locale.getpreferredencoding = lambda: \"UTF-8\""
      ],
      "metadata": {
        "id": "2u35QT3GPbri"
      },
      "execution_count": null,
      "outputs": []
    },
    {
      "cell_type": "code",
      "source": [
        "import os\n",
        "\n",
        "# Set the LC_CTYPE environment variable to a UTF-8 locale\n",
        "os.environ['LC_CTYPE'] = 'en_US.UTF-8'\n"
      ],
      "metadata": {
        "id": "_uCANoiIPP8S"
      },
      "execution_count": null,
      "outputs": []
    }
  ],
  "metadata": {
    "kernelspec": {
      "display_name": "Python 3.10.8 ('whisperer-4v_99iEx-py3.10')",
      "language": "python",
      "name": "python3"
    },
    "language_info": {
      "codemirror_mode": {
        "name": "ipython",
        "version": 3
      },
      "file_extension": ".py",
      "mimetype": "text/x-python",
      "name": "python",
      "nbconvert_exporter": "python",
      "pygments_lexer": "ipython3",
      "version": "3.10.8"
    },
    "vscode": {
      "interpreter": {
        "hash": "a2f9b3ec17b844677b9b9d4874e21bfbfb54460b162f2162125e33f3cefd00af"
      }
    },
    "colab": {
      "provenance": []
    },
    "accelerator": "GPU",
    "gpuClass": "standard"
  },
  "nbformat": 4,
  "nbformat_minor": 0
}